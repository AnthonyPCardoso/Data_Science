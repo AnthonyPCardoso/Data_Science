{
  "nbformat": 4,
  "nbformat_minor": 0,
  "metadata": {
    "colab": {
      "provenance": [],
      "authorship_tag": "ABX9TyNUrShPwDZBcfef8RsXFUqa"
    },
    "kernelspec": {
      "name": "python3",
      "display_name": "Python 3"
    },
    "language_info": {
      "name": "python"
    }
  },
  "cells": [
    {
      "cell_type": "code",
      "execution_count": 1,
      "metadata": {
        "colab": {
          "base_uri": "https://localhost:8080/"
        },
        "id": "qGbLKWLS5S_6",
        "outputId": "0aa37f4c-be2b-4285-f4b5-f2c0b0c19c15"
      },
      "outputs": [
        {
          "output_type": "stream",
          "name": "stdout",
          "text": [
            "  estilo tipo_curso região  estilo_A  estilo_B  estilo_C  tipo_curso_X  \\\n",
            "0      A          X  Norte       1.0       0.0       0.0           1.0   \n",
            "1      B          Y    Sul       0.0       1.0       0.0           0.0   \n",
            "2      C          Z  Norte       0.0       0.0       1.0           0.0   \n",
            "3      A          X  Leste       1.0       0.0       0.0           1.0   \n",
            "4      B          X  Oeste       0.0       1.0       0.0           1.0   \n",
            "\n",
            "   tipo_curso_Y  tipo_curso_Z  região_Leste  região_Norte  região_Oeste  \\\n",
            "0           0.0           0.0           0.0           1.0           0.0   \n",
            "1           1.0           0.0           0.0           0.0           0.0   \n",
            "2           0.0           1.0           0.0           1.0           0.0   \n",
            "3           0.0           0.0           1.0           0.0           0.0   \n",
            "4           0.0           0.0           0.0           0.0           1.0   \n",
            "\n",
            "   região_Sul  \n",
            "0         0.0  \n",
            "1         1.0  \n",
            "2         0.0  \n",
            "3         0.0  \n",
            "4         0.0  \n"
          ]
        }
      ],
      "source": [
        "from sklearn.preprocessing import OneHotEncoder\n",
        "import pandas as pd\n",
        "\n",
        "# Exemplo de dados\n",
        "data = {\n",
        "    'estilo': ['A', 'B', 'C', 'A', 'B'],\n",
        "    'tipo_curso': ['X', 'Y', 'Z', 'X', 'X'],\n",
        "    'região': ['Norte', 'Sul', 'Norte', 'Leste', 'Oeste']\n",
        "}\n",
        "\n",
        "# Criar um DataFrame pandas\n",
        "df = pd.DataFrame(data)\n",
        "\n",
        "# Instanciar o codificador one-hot\n",
        "encoder = OneHotEncoder()\n",
        "\n",
        "# Ajustar e transformar os dados\n",
        "encoded_data = encoder.fit_transform(df[['estilo', 'tipo_curso', 'região']])\n",
        "\n",
        "# Converter os dados codificados em um DataFrame pandas\n",
        "encoded_df = pd.DataFrame(encoded_data.toarray(), columns=encoder.get_feature_names_out(['estilo', 'tipo_curso', 'região']))\n",
        "\n",
        "# Concatenar o DataFrame codificado com o DataFrame original\n",
        "df_encoded = pd.concat([df, encoded_df], axis=1)\n",
        "\n",
        "# Exibir o DataFrame resultante\n",
        "print(df_encoded)"
      ]
    }
  ]
}